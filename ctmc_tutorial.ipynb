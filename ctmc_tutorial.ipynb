{
 "cells": [
  {
   "cell_type": "code",
   "execution_count": null,
   "id": "3085587d-41e7-4831-89a9-0ba4438fafda",
   "metadata": {},
   "outputs": [],
   "source": [
    "from ctmc import ContinuousTimeMarkovChain as MC\n",
    "from ctmc import normal_generator, gamma_generator, uniform_generator, cyclic_generator, detailed_balance_generator\n",
    "\n",
    "import numpy as np\n",
    "import matplotlib.pyplot as plt "
   ]
  },
  {
   "cell_type": "code",
   "execution_count": null,
   "id": "e5e1a755-6b5c-41c7-a146-3cd7eb3b6d28",
   "metadata": {},
   "outputs": [],
   "source": [
    "#make 1 machines with 7 states, generated using the \"cyclic\" generator fo transition rates\n",
    "machine = MC(S=6, N=1, generator=cyclic_generator)"
   ]
  },
  {
   "cell_type": "code",
   "execution_count": null,
   "id": "b79ab65a-2664-4533-9d52-1ae3674ccf20",
   "metadata": {},
   "outputs": [],
   "source": [
    "# the cornerstone is the rate matrix, note it is scaled so the maximum rate on the diagonal is -1, \n",
    "# this basically sets a uniform timescale for different models based on the state with the most outgoing activity\n",
    "print(machine.R)\n",
    "\n",
    "# this scaling is kept track of with the machine.scale attribute\n",
    "machine.scale"
   ]
  },
  {
   "cell_type": "code",
   "execution_count": null,
   "id": "389f3bf9-389a-48de-94ee-57d460020ccc",
   "metadata": {},
   "outputs": [],
   "source": [
    "# find and the NESS state\n",
    "ness = machine.get_ness()\n",
    "# finds and the minimum entropy producing state\n",
    "meps = machine.get_meps()\n",
    "# returns a uniform state\n",
    "unif = machine.get_uniform()\n"
   ]
  },
  {
   "cell_type": "code",
   "execution_count": null,
   "id": "f16291a5-c11e-4467-84aa-7cc9f6a23567",
   "metadata": {},
   "outputs": [],
   "source": [
    "# for states, we can grab a variety of values, like the entropy produciton rate\n",
    "print('epr:')\n",
    "print(machine.get_epr(ness), machine.get_epr(meps), machine.get_epr(unif))\n",
    "#activity (which is the sum of all (positive) transition rates)\n",
    "print('activity:')\n",
    "print(machine.get_activity(ness), machine.get_activity(meps), machine.get_activity(unif))\n",
    "# or probability current (which is the total amount of probability flowing between states, note it is zero for the NESS state)\n",
    "print('current:')\n",
    "print(machine.get_prob_current(ness), machine.get_prob_current(meps), machine.get_prob_current(unif))"
   ]
  },
  {
   "cell_type": "code",
   "execution_count": null,
   "id": "69022790-5a4a-49c3-bc9a-44e73f3ac564",
   "metadata": {},
   "outputs": [],
   "source": [
    "print(machine.get_prob_current(ness), machine.get_prob_current(meps), machine.get_prob_current(unif))"
   ]
  },
  {
   "cell_type": "code",
   "execution_count": null,
   "id": "bbd75b29-167a-47c9-803e-44c6718f253a",
   "metadata": {},
   "outputs": [],
   "source": [
    "# returns a random state drawn from a uniform distrbution over all states\n",
    "random = machine.get_random_state()\n",
    "\n",
    "# returns a \"localized\" state which is basically a guassian centered on a particular state, putting the states on a ring, default is random peak and variance\n",
    "random_local = machine.get_local_state()\n",
    "# you can put in manual arguments too, though theres an annoying input issue with variances for now\n",
    "hardcoded_local_1 = machine.get_local_state(mu=2.6, sigma= np.array([.75]))\n",
    "hardcoded_local_2 = machine.get_local_state(mu=2.6, sigma= np.array([1.5]))\n",
    "\n",
    "\n",
    "fig, ax = plt.subplots(figsize=(10,6))\n",
    "states = [random, random_local, hardcoded_local_1, hardcoded_local_2]\n",
    "labels = ['rand','rand_loc', 'local_1', 'local_2']\n",
    "for s,l in zip(states, labels):\n",
    "    ax.plot(range(machine.S), s.T, label=l, marker='o')\n",
    "ax.set_xlabel('state #');\n",
    "ax.set_ylabel('p(state #)');\n",
    "fig.legend()\n"
   ]
  },
  {
   "cell_type": "code",
   "execution_count": null,
   "id": "67e52c31-827e-4bc3-a488-94c5f467afe8",
   "metadata": {},
   "outputs": [],
   "source": [
    "# and, we can evolve these states according to the rate matrix:\n",
    "current_state = hardcoded_local_1\n",
    "states = [current_state]\n",
    "for i in range(20):\n",
    "    current_state = machine.evolve_state(current_state, dt=.2)\n",
    "    states.append(current_state)\n",
    "\n",
    "fig, ax = plt.subplots()\n",
    "ax.plot(np.squeeze(states), marker='o');\n",
    "ax.set_xlabel('$t$');\n",
    "ax.set_ylabel('$p_i(t)$');"
   ]
  },
  {
   "cell_type": "code",
   "execution_count": null,
   "id": "e8a18431-584d-4b9d-a23e-593b2afa9774",
   "metadata": {},
   "outputs": [],
   "source": [
    "# all of these things also work with ensembles of machines, for example...\n",
    "\n",
    "# make an ensemble of 100 machines with 50 states each, generated using the default uniform generator for transition rates\n",
    "machines = MC(S=50, N=100)"
   ]
  },
  {
   "cell_type": "code",
   "execution_count": null,
   "id": "9a951fc6-3034-4613-a5d7-5633e71c7589",
   "metadata": {},
   "outputs": [],
   "source": [
    "meps_100 = machines.get_meps()\n",
    "meps_epr = machines.get_epr(meps_100)\n",
    "meps_activity = machines.get_activity(meps_100)\n",
    "\n",
    "random_100 = machines.get_random_state()\n",
    "random_epr = machines.get_epr(random_100)\n",
    "random_activity = machines.get_activity(random_100)"
   ]
  },
  {
   "cell_type": "code",
   "execution_count": null,
   "id": "f2bef0a3-8b73-4ef1-a08c-114b3ee6b352",
   "metadata": {},
   "outputs": [],
   "source": [
    "fig, ax = plt.subplots(1,2, figsize=(14,7))\n",
    "ax[0].scatter(range(100), meps_epr, label='meps')\n",
    "ax[0].scatter(range(100), random_epr, label='rand')\n",
    "\n",
    "ax[1].scatter(range(100), random_activity)\n",
    "ax[1].scatter(range(100), meps_activity)\n",
    "\n",
    "ax[0].set_title('entropy production rate')\n",
    "ax[1].set_title('activity')\n",
    "\n",
    "fig.legend()"
   ]
  },
  {
   "cell_type": "code",
   "execution_count": null,
   "id": "1d65320f-ba23-4a5e-a226-5cafc6b32611",
   "metadata": {},
   "outputs": [],
   "source": [
    "# example of doing a sweep over many different kind of generators with different S and N, and saving some of the data. The NESS calculating will become numeric if the matrices get\n",
    "# too large to invert exactly\n",
    "SS = [3, 6, 20, 100, 250]\n",
    "trials = [200, 200, 200, 200, 200]\n",
    "\n",
    "normal_output, uniform_output, gamma_output, cyclic_output, balanced_output = {}, {}, {}, {}, {}\n",
    "\n",
    "for a in range(5):\n",
    "    print(a)\n",
    "    output = [normal_output, uniform_output, gamma_output, cyclic_output, balanced_output ][a]\n",
    "    gen = [normal_generator, uniform_generator, gamma_generator, cyclic_generator, detailed_balance_generator][a]\n",
    "    \n",
    "    \n",
    "    for s,trial in zip(SS,trials):\n",
    "        p = MC(S=s, N=trial, generator=gen)\n",
    "        #R = [ np.random.uniform(0,1,(S,S)) for i in range(trials)]\n",
    "        #for p,r in zip(procs,R):\n",
    "        #    p.set_rate_matrix(r, max_rate=1)   \n",
    "        dct = {'ness':p.get_epr(p.get_ness()), \n",
    "               'meps':p.get_epr(p.get_meps()), \n",
    "               'unif':p.get_epr(p.get_uniform()),\n",
    "               'rand':p.get_epr(p.get_random_state()),\n",
    "               'local':p.get_epr(p.get_local_state()),\n",
    "               'N':trial, 'scale':p.scale, \n",
    "               'nm_dkl':p.dkl(p.ness,p.meps),'mn_dkl':p.dkl(p.meps,p.ness)}\n",
    "        \n",
    "        \n",
    "        output[f'{p.S}'] = dct\n"
   ]
  },
  {
   "cell_type": "code",
   "execution_count": null,
   "id": "6691720d-d007-4fee-85b5-c109a86a8c63",
   "metadata": {},
   "outputs": [],
   "source": [
    "# some example data calls\n",
    "plt.scatter(cyclic_output['6']['meps'],cyclic_output['6']['local'],)"
   ]
  }
 ],
 "metadata": {
  "kernelspec": {
   "display_name": "bare",
   "language": "python",
   "name": "bare"
  },
  "language_info": {
   "codemirror_mode": {
    "name": "ipython",
    "version": 3
   },
   "file_extension": ".py",
   "mimetype": "text/x-python",
   "name": "python",
   "nbconvert_exporter": "python",
   "pygments_lexer": "ipython3",
   "version": "3.7.16"
  }
 },
 "nbformat": 4,
 "nbformat_minor": 5
}
